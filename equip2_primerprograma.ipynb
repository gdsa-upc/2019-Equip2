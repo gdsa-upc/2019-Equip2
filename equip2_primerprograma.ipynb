{
 "cells": [
  {
   "cell_type": "code",
   "execution_count": null,
   "metadata": {
    "collapsed": true
   },
   "outputs": [],
   "source": [
    "#Carreguem Fashion MNIST\n",
    "\n",
    "from keras.datasets import fashion_mnist\n",
    "import tensorflow.compat.v1 as tf\n",
    "tf.disable_v2_behavior()\n",
    "(x_train, y_train), (x_test, y_test) = fashion_mnist.load_data()"
   ]
  },
  {
   "cell_type": "code",
   "execution_count": null,
   "outputs": [],
   "source": [
    "import matplotlib.pyplot as plt\n",
    "print(\"x_train shape:\", x_train.shape, \"y_train shape:\", y_train.shape)\n",
    "print(\"x_test shape:\", x_test.shape, \"y_test shape:\", y_test.shape)\n",
    "\n",
    "plt.imshow(x_train[1],cmap='gray')"
   ],
   "metadata": {
    "collapsed": false,
    "pycharm": {
     "name": "#%%\n"
    }
   }
  },
  {
   "cell_type": "code",
   "execution_count": null,
   "outputs": [],
   "source": [
    "import numpy as np\n",
    "\n",
    "train = np.reshape(x_train,(60000,784))\n",
    "test = np.reshape(x_test,(10000,784))\n",
    "\n",
    "print(\"x_train shape:\", train.shape,\" \", \"x_test shape:\", test.shape)"
   ],
   "metadata": {
    "collapsed": false,
    "pycharm": {
     "name": "#%%\n"
    }
   }
  },
  {
   "cell_type": "code",
   "execution_count": null,
   "outputs": [],
   "source": [
    "import sklearn\n",
    "from sklearn import preprocessing\n",
    "\n",
    "train_norm=sklearn.preprocessing.normalize(train)\n",
    "test_norm=sklearn.preprocessing.normalize(test)\n",
    "\n",
    "print(\"x_train_normalized shape:\", train_norm.shape,\" \", \"x_test_normalized shape:\", test_norm.shape)\n",
    "\n",
    "train_norm = train_norm.transpose()\n",
    "\n",
    "print(\"x_test_normalized\", test_norm.shape)\n",
    "\n",
    "similarities = np.matmul(test_norm,train_norm)"
   ],
   "metadata": {
    "collapsed": false,
    "pycharm": {
     "name": "#%%\n"
    }
   }
  },
  {
   "cell_type": "code",
   "execution_count": null,
   "outputs": [],
   "source": [
    "#VISUALITZEM ELS RESULTATS\n",
    "\n",
    "from PIL import Image, ImageOps\n",
    "\n",
    "# get the original images for visualization\n",
    "x_train_images = np.reshape(x_train, (60000, 28, 28))\n",
    "x_test_images = np.reshape(x_test, (10000, 28, 28))\n",
    "\n",
    "h,w = (28, 28)\n",
    "new_image= Image.new('RGB', (h*15,w*10))\n",
    "\n",
    "# Visualize ranks of the 10 queries\n",
    "offset = 900 # it will show results from query #'offset' to #offset+10\n",
    "for q in range(10):\n",
    "  ranks_q = ranks[q*(offset+1),:]\n",
    "  for i in range(15):\n",
    "      new_image.paste( Image.fromarray(x_train_images[ranks_q[i]]), (h*(1+i),w*q ))\n",
    "\n",
    "  # visualize query\n",
    "  ima_q = Image.fromarray(x_test_images[q*(offset+1),...])\n",
    "  ima_q = ImageOps.expand(ima_q, border=3, fill='green')\n",
    "\n",
    "  new_image.paste(ima_q, (0,w*q))\n",
    "\n",
    "plt.imshow(new_image)\n",
    "plt.axis('off')\n",
    "plt.show()\n"
   ],
   "metadata": {
    "collapsed": false,
    "pycharm": {
     "name": "#%%\n"
    }
   }
  }
 ],
 "metadata": {
  "kernelspec": {
   "display_name": "Python 3",
   "language": "python",
   "name": "python3"
  },
  "language_info": {
   "codemirror_mode": {
    "name": "ipython",
    "version": 2
   },
   "file_extension": ".py",
   "mimetype": "text/x-python",
   "name": "python",
   "nbconvert_exporter": "python",
   "pygments_lexer": "ipython2",
   "version": "2.7.6"
  },
  "pycharm": {
   "stem_cell": {
    "cell_type": "raw",
    "source": [],
    "metadata": {
     "collapsed": false
    }
   }
  }
 },
 "nbformat": 4,
 "nbformat_minor": 0
}